{
 "cells": [
  {
   "cell_type": "code",
   "execution_count": 9,
   "metadata": {},
   "outputs": [],
   "source": [
    "from keras.models import model_from_json\n",
    "import pandas as pd\n",
    "import numpy as np\n",
    "import pickle\n",
    "\n",
    "import configparser"
   ]
  },
  {
   "cell_type": "markdown",
   "metadata": {},
   "source": [
    "# config"
   ]
  },
  {
   "cell_type": "code",
   "execution_count": 13,
   "metadata": {},
   "outputs": [],
   "source": [
    "path_conf = '../settings.ini'\n",
    "config = configparser.ConfigParser()\n",
    "config.read(path_conf )\n",
    "\n",
    "random_state = config.get('trainer', 'random_state')\n",
    "n_splits = config.get('trainer', 'n_splits')"
   ]
  },
  {
   "cell_type": "markdown",
   "metadata": {},
   "source": [
    "# load test set"
   ]
  },
  {
   "cell_type": "code",
   "execution_count": 6,
   "metadata": {
    "scrolled": true
   },
   "outputs": [],
   "source": [
    "test_data = '../../processed_data/solubility_test_mordred_ignore_3D.csv'\n",
    "df_test = pd.read_csv(test_data)\n",
    "X_test = np.array(df_test.iloc[:,2:])\n",
    "y_test = np.array(df_test.iloc[:,1])"
   ]
  },
  {
   "cell_type": "markdown",
   "metadata": {},
   "source": [
    "# load train set"
   ]
  },
  {
   "cell_type": "code",
   "execution_count": 8,
   "metadata": {},
   "outputs": [],
   "source": [
    "train_data = '../../processed_data/solubility_train_mordred_ignore_3D.csv'\n",
    "df_train = pd.read_csv(train_data)\n",
    "X_train = np.array(df_test.iloc[:,2:])\n",
    "y_train = np.array(df_test.iloc[:,1])"
   ]
  },
  {
   "cell_type": "markdown",
   "metadata": {},
   "source": [
    "# Generate prediction features"
   ]
  },
  {
   "cell_type": "code",
   "execution_count": null,
   "metadata": {},
   "outputs": [],
   "source": [
    "# task declaration\n",
    "if len(set(y_train)) <= 2:\n",
    "    task = 'clf'\n",
    "elif len(set(y_train)) > 2:\n",
    "    task = 'reg'\n",
    "\n",
    "# cv settings\n",
    "if task == 'clf':\n",
    "    cv = StratifiedKFold(n_splits=n_splits, random_state=random_state, shuffle=True)\n",
    "elif task == 'reg':\n",
    "    cv = KFold(n_splits=n_splits, random_state=random_state, shuffle=True)"
   ]
  }
 ],
 "metadata": {
  "kernelspec": {
   "display_name": "Python 3 (ipykernel)",
   "language": "python",
   "name": "python3"
  },
  "language_info": {
   "codemirror_mode": {
    "name": "ipython",
    "version": 3
   },
   "file_extension": ".py",
   "mimetype": "text/x-python",
   "name": "python",
   "nbconvert_exporter": "python",
   "pygments_lexer": "ipython3",
   "version": "3.8.5"
  }
 },
 "nbformat": 4,
 "nbformat_minor": 4
}
